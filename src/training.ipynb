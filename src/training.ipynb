{
 "cells": [
  {
   "cell_type": "code",
   "execution_count": 1,
   "metadata": {},
   "outputs": [
    {
     "name": "stderr",
     "output_type": "stream",
     "text": [
      "/Users/charlesoneill/miniconda3/envs/anu/lib/python3.12/site-packages/tqdm/auto.py:21: TqdmWarning: IProgress not found. Please update jupyter and ipywidgets. See https://ipywidgets.readthedocs.io/en/stable/user_install.html\n",
      "  from .autonotebook import tqdm as notebook_tqdm\n"
     ]
    }
   ],
   "source": [
    "import torch\n",
    "import torch.nn as nn\n",
    "import torch.nn.functional as F\n",
    "import torch.optim as optim\n",
    "import numpy as np\n",
    "import einops\n",
    "from fancy_einsum import einsum\n",
    "import os\n",
    "import tqdm.auto as tqdm\n",
    "import random\n",
    "from pathlib import Path\n",
    "import plotly.express as px\n",
    "from torch.utils.data import DataLoader\n",
    "\n",
    "from typing import List, Union, Optional\n",
    "from functools import partial\n",
    "import copy\n",
    "\n",
    "import itertools\n",
    "from transformers import AutoModelForCausalLM, AutoConfig, AutoTokenizer\n",
    "import dataclasses\n",
    "import datasets\n",
    "\n",
    "import transformer_lens\n",
    "import transformer_lens.utils as utils\n",
    "from transformer_lens.hook_points import (\n",
    "    HookedRootModule,\n",
    "    HookPoint,\n",
    ")  # Hooking utilities\n",
    "from transformer_lens import HookedTransformer, HookedTransformerConfig, FactoredMatrix, ActivationCache"
   ]
  },
  {
   "cell_type": "markdown",
   "metadata": {},
   "source": [
    "## Predictions"
   ]
  },
  {
   "cell_type": "code",
   "execution_count": 2,
   "metadata": {},
   "outputs": [
    {
     "data": {
      "text/plain": [
       "<All keys matched successfully>"
      ]
     },
     "execution_count": 2,
     "metadata": {},
     "output_type": "execute_result"
    }
   ],
   "source": [
    "# Load the model\n",
    "PTH_LOCATION = \"data/transformer_lens.pth\"\n",
    "model_dict = torch.load(PTH_LOCATION)\n",
    "model = HookedTransformer(model_dict[\"config\"])\n",
    "model.load_state_dict(torch.load(PTH_LOCATION)[\"model\"])"
   ]
  },
  {
   "cell_type": "code",
   "execution_count": 6,
   "metadata": {},
   "outputs": [
    {
     "name": "stdout",
     "output_type": "stream",
     "text": [
      "torch.Size([204134, 9]) torch.Size([51034, 9])\n"
     ]
    }
   ],
   "source": [
    "# Load our tensors\n",
    "train_data = torch.load(\"data/train_data.pt\")\n",
    "eval_data = torch.load(\"data/eval_data.pt\")\n",
    "print(train_data.shape, eval_data.shape)"
   ]
  },
  {
   "cell_type": "code",
   "execution_count": 7,
   "metadata": {},
   "outputs": [
    {
     "name": "stdout",
     "output_type": "stream",
     "text": [
      "Example: tensor([3, 1, 5, 7, 8, 2, 4, 9, 9])\n",
      "Pred:    tensor([6, 7, 8, 8, 0, 4, 6, 9, 9])\n"
     ]
    }
   ],
   "source": [
    "# Do a prediction\n",
    "model.eval()\n",
    "# Random idx\n",
    "idx = np.random.randint(0, len(eval_data))\n",
    "example = eval_data[idx:idx+1, :]\n",
    "example_logits = model(example).squeeze()\n",
    "\n",
    "# Get the argmax over the final dimension\n",
    "example_pred = example_logits.argmax(-1)\n",
    "print(f\"Example: {example.squeeze()}\")\n",
    "print(f\"Pred:    {example_pred.squeeze()}\")"
   ]
  },
  {
   "cell_type": "code",
   "execution_count": 8,
   "metadata": {},
   "outputs": [
    {
     "name": "stdout",
     "output_type": "stream",
     "text": [
      "Logits shape: torch.Size([1, 5, 10])\n",
      "Example: tensor([5, 3, 0, 8, 4, 6, 7, 2, 1])\n",
      "Src: tensor([[5, 3, 0, 8, 4]])\n",
      "Target:  6\n",
      "Pred:    7\n"
     ]
    }
   ],
   "source": [
    "# Do a prediction of the next token\n",
    "model.eval()\n",
    "idx = np.random.randint(0, len(eval_data))\n",
    "example = eval_data[idx:idx+1, :]\n",
    "layer = 5\n",
    "src = example[:, :layer]\n",
    "target = example[:, layer]\n",
    "example_logits = model(src)\n",
    "print(f\"Logits shape: {example_logits.shape}\")\n",
    "example_pred = example_logits[:, -1].argmax(-1)\n",
    "print(f\"Example: {example.squeeze()}\")\n",
    "print(f\"Src: {src}\")\n",
    "print(f\"Target:  {target.squeeze()}\")\n",
    "print(f\"Pred:    {example_pred.squeeze()}\")"
   ]
  },
  {
   "cell_type": "code",
   "execution_count": 9,
   "metadata": {},
   "outputs": [
    {
     "name": "stdout",
     "output_type": "stream",
     "text": [
      "Target:  4\n",
      "Pred:    6\n"
     ]
    }
   ],
   "source": [
    "def predict_next_token(src, model):\n",
    "    model.eval()\n",
    "    example_logits = model(src)\n",
    "    example_pred = example_logits[:, -1].argmax(-1)\n",
    "    return example_pred\n",
    "\n",
    "# Do a prediction of the next token\n",
    "idx = np.random.randint(0, len(eval_data))\n",
    "example = eval_data[idx:idx+1, :]\n",
    "layer = 7\n",
    "src = example[:, :layer]\n",
    "target = example[:, layer]\n",
    "example_pred = predict_next_token(src, model)\n",
    "print(f\"Target:  {target.squeeze()}\")\n",
    "print(f\"Pred:    {example_pred.squeeze()}\")"
   ]
  },
  {
   "cell_type": "code",
   "execution_count": 10,
   "metadata": {},
   "outputs": [
    {
     "data": {
      "application/vnd.plotly.v1+json": {
       "config": {
        "plotlyServerURL": "https://plot.ly"
       },
       "data": [
        {
         "coloraxis": "coloraxis",
         "hovertemplate": "x: %{x}<br>y: %{y}<br>color: %{z}<extra></extra>",
         "name": "0",
         "textfont": {
          "size": 20
         },
         "texttemplate": "%{text}",
         "type": "heatmap",
         "xaxis": "x",
         "yaxis": "y",
         "z": [
          [
           0.2416817,
           0.006259025,
           0.004565318
          ],
          [
           0.007019424,
           0.24263594,
           0.27778953
          ],
          [
           0.008234227,
           0.19815822,
           0.0054290835
          ]
         ]
        }
       ],
       "layout": {
        "annotations": [
         {
          "font": {
           "size": 40
          },
          "showarrow": false,
          "text": "X",
          "x": 0,
          "xref": "x",
          "y": 2,
          "yref": "y"
         },
         {
          "font": {
           "size": 40
          },
          "showarrow": false,
          "text": "X",
          "x": 2,
          "xref": "x",
          "y": 0,
          "yref": "y"
         },
         {
          "font": {
           "size": 40
          },
          "showarrow": false,
          "text": "X",
          "x": 2,
          "xref": "x",
          "y": 2,
          "yref": "y"
         },
         {
          "font": {
           "size": 40
          },
          "showarrow": false,
          "text": "O",
          "x": 1,
          "xref": "x",
          "y": 0,
          "yref": "y"
         },
         {
          "font": {
           "size": 40
          },
          "showarrow": false,
          "text": "O",
          "x": 0,
          "xref": "x",
          "y": 1,
          "yref": "y"
         }
        ],
        "autosize": false,
        "coloraxis": {
         "colorscale": [
          [
           0,
           "#0d0887"
          ],
          [
           0.1111111111111111,
           "#46039f"
          ],
          [
           0.2222222222222222,
           "#7201a8"
          ],
          [
           0.3333333333333333,
           "#9c179e"
          ],
          [
           0.4444444444444444,
           "#bd3786"
          ],
          [
           0.5555555555555556,
           "#d8576b"
          ],
          [
           0.6666666666666666,
           "#ed7953"
          ],
          [
           0.7777777777777778,
           "#fb9f3a"
          ],
          [
           0.8888888888888888,
           "#fdca26"
          ],
          [
           1,
           "#f0f921"
          ]
         ]
        },
        "height": 500,
        "margin": {
         "t": 60
        },
        "shapes": [
         {
          "fillcolor": "green",
          "line": {
           "color": "green"
          },
          "type": "circle",
          "x0": -0.25,
          "x1": 0.25,
          "xref": "x",
          "y0": 1.75,
          "y1": 2.25,
          "yref": "y"
         },
         {
          "fillcolor": "green",
          "line": {
           "color": "green"
          },
          "type": "circle",
          "x0": 1.75,
          "x1": 2.25,
          "xref": "x",
          "y0": -0.25,
          "y1": 0.25,
          "yref": "y"
         },
         {
          "fillcolor": "green",
          "line": {
           "color": "green"
          },
          "type": "circle",
          "x0": 1.75,
          "x1": 2.25,
          "xref": "x",
          "y0": 1.75,
          "y1": 2.25,
          "yref": "y"
         },
         {
          "fillcolor": "green",
          "line": {
           "color": "green"
          },
          "type": "circle",
          "x0": 0.75,
          "x1": 1.25,
          "xref": "x",
          "y0": -0.25,
          "y1": 0.25,
          "yref": "y"
         },
         {
          "fillcolor": "green",
          "line": {
           "color": "green"
          },
          "type": "circle",
          "x0": -0.25,
          "x1": 0.25,
          "xref": "x",
          "y0": 0.75,
          "y1": 1.25,
          "yref": "y"
         }
        ],
        "template": {
         "data": {
          "bar": [
           {
            "error_x": {
             "color": "#2a3f5f"
            },
            "error_y": {
             "color": "#2a3f5f"
            },
            "marker": {
             "line": {
              "color": "#E5ECF6",
              "width": 0.5
             },
             "pattern": {
              "fillmode": "overlay",
              "size": 10,
              "solidity": 0.2
             }
            },
            "type": "bar"
           }
          ],
          "barpolar": [
           {
            "marker": {
             "line": {
              "color": "#E5ECF6",
              "width": 0.5
             },
             "pattern": {
              "fillmode": "overlay",
              "size": 10,
              "solidity": 0.2
             }
            },
            "type": "barpolar"
           }
          ],
          "carpet": [
           {
            "aaxis": {
             "endlinecolor": "#2a3f5f",
             "gridcolor": "white",
             "linecolor": "white",
             "minorgridcolor": "white",
             "startlinecolor": "#2a3f5f"
            },
            "baxis": {
             "endlinecolor": "#2a3f5f",
             "gridcolor": "white",
             "linecolor": "white",
             "minorgridcolor": "white",
             "startlinecolor": "#2a3f5f"
            },
            "type": "carpet"
           }
          ],
          "choropleth": [
           {
            "colorbar": {
             "outlinewidth": 0,
             "ticks": ""
            },
            "type": "choropleth"
           }
          ],
          "contour": [
           {
            "colorbar": {
             "outlinewidth": 0,
             "ticks": ""
            },
            "colorscale": [
             [
              0,
              "#0d0887"
             ],
             [
              0.1111111111111111,
              "#46039f"
             ],
             [
              0.2222222222222222,
              "#7201a8"
             ],
             [
              0.3333333333333333,
              "#9c179e"
             ],
             [
              0.4444444444444444,
              "#bd3786"
             ],
             [
              0.5555555555555556,
              "#d8576b"
             ],
             [
              0.6666666666666666,
              "#ed7953"
             ],
             [
              0.7777777777777778,
              "#fb9f3a"
             ],
             [
              0.8888888888888888,
              "#fdca26"
             ],
             [
              1,
              "#f0f921"
             ]
            ],
            "type": "contour"
           }
          ],
          "contourcarpet": [
           {
            "colorbar": {
             "outlinewidth": 0,
             "ticks": ""
            },
            "type": "contourcarpet"
           }
          ],
          "heatmap": [
           {
            "colorbar": {
             "outlinewidth": 0,
             "ticks": ""
            },
            "colorscale": [
             [
              0,
              "#0d0887"
             ],
             [
              0.1111111111111111,
              "#46039f"
             ],
             [
              0.2222222222222222,
              "#7201a8"
             ],
             [
              0.3333333333333333,
              "#9c179e"
             ],
             [
              0.4444444444444444,
              "#bd3786"
             ],
             [
              0.5555555555555556,
              "#d8576b"
             ],
             [
              0.6666666666666666,
              "#ed7953"
             ],
             [
              0.7777777777777778,
              "#fb9f3a"
             ],
             [
              0.8888888888888888,
              "#fdca26"
             ],
             [
              1,
              "#f0f921"
             ]
            ],
            "type": "heatmap"
           }
          ],
          "heatmapgl": [
           {
            "colorbar": {
             "outlinewidth": 0,
             "ticks": ""
            },
            "colorscale": [
             [
              0,
              "#0d0887"
             ],
             [
              0.1111111111111111,
              "#46039f"
             ],
             [
              0.2222222222222222,
              "#7201a8"
             ],
             [
              0.3333333333333333,
              "#9c179e"
             ],
             [
              0.4444444444444444,
              "#bd3786"
             ],
             [
              0.5555555555555556,
              "#d8576b"
             ],
             [
              0.6666666666666666,
              "#ed7953"
             ],
             [
              0.7777777777777778,
              "#fb9f3a"
             ],
             [
              0.8888888888888888,
              "#fdca26"
             ],
             [
              1,
              "#f0f921"
             ]
            ],
            "type": "heatmapgl"
           }
          ],
          "histogram": [
           {
            "marker": {
             "pattern": {
              "fillmode": "overlay",
              "size": 10,
              "solidity": 0.2
             }
            },
            "type": "histogram"
           }
          ],
          "histogram2d": [
           {
            "colorbar": {
             "outlinewidth": 0,
             "ticks": ""
            },
            "colorscale": [
             [
              0,
              "#0d0887"
             ],
             [
              0.1111111111111111,
              "#46039f"
             ],
             [
              0.2222222222222222,
              "#7201a8"
             ],
             [
              0.3333333333333333,
              "#9c179e"
             ],
             [
              0.4444444444444444,
              "#bd3786"
             ],
             [
              0.5555555555555556,
              "#d8576b"
             ],
             [
              0.6666666666666666,
              "#ed7953"
             ],
             [
              0.7777777777777778,
              "#fb9f3a"
             ],
             [
              0.8888888888888888,
              "#fdca26"
             ],
             [
              1,
              "#f0f921"
             ]
            ],
            "type": "histogram2d"
           }
          ],
          "histogram2dcontour": [
           {
            "colorbar": {
             "outlinewidth": 0,
             "ticks": ""
            },
            "colorscale": [
             [
              0,
              "#0d0887"
             ],
             [
              0.1111111111111111,
              "#46039f"
             ],
             [
              0.2222222222222222,
              "#7201a8"
             ],
             [
              0.3333333333333333,
              "#9c179e"
             ],
             [
              0.4444444444444444,
              "#bd3786"
             ],
             [
              0.5555555555555556,
              "#d8576b"
             ],
             [
              0.6666666666666666,
              "#ed7953"
             ],
             [
              0.7777777777777778,
              "#fb9f3a"
             ],
             [
              0.8888888888888888,
              "#fdca26"
             ],
             [
              1,
              "#f0f921"
             ]
            ],
            "type": "histogram2dcontour"
           }
          ],
          "mesh3d": [
           {
            "colorbar": {
             "outlinewidth": 0,
             "ticks": ""
            },
            "type": "mesh3d"
           }
          ],
          "parcoords": [
           {
            "line": {
             "colorbar": {
              "outlinewidth": 0,
              "ticks": ""
             }
            },
            "type": "parcoords"
           }
          ],
          "pie": [
           {
            "automargin": true,
            "type": "pie"
           }
          ],
          "scatter": [
           {
            "fillpattern": {
             "fillmode": "overlay",
             "size": 10,
             "solidity": 0.2
            },
            "type": "scatter"
           }
          ],
          "scatter3d": [
           {
            "line": {
             "colorbar": {
              "outlinewidth": 0,
              "ticks": ""
             }
            },
            "marker": {
             "colorbar": {
              "outlinewidth": 0,
              "ticks": ""
             }
            },
            "type": "scatter3d"
           }
          ],
          "scattercarpet": [
           {
            "marker": {
             "colorbar": {
              "outlinewidth": 0,
              "ticks": ""
             }
            },
            "type": "scattercarpet"
           }
          ],
          "scattergeo": [
           {
            "marker": {
             "colorbar": {
              "outlinewidth": 0,
              "ticks": ""
             }
            },
            "type": "scattergeo"
           }
          ],
          "scattergl": [
           {
            "marker": {
             "colorbar": {
              "outlinewidth": 0,
              "ticks": ""
             }
            },
            "type": "scattergl"
           }
          ],
          "scattermapbox": [
           {
            "marker": {
             "colorbar": {
              "outlinewidth": 0,
              "ticks": ""
             }
            },
            "type": "scattermapbox"
           }
          ],
          "scatterpolar": [
           {
            "marker": {
             "colorbar": {
              "outlinewidth": 0,
              "ticks": ""
             }
            },
            "type": "scatterpolar"
           }
          ],
          "scatterpolargl": [
           {
            "marker": {
             "colorbar": {
              "outlinewidth": 0,
              "ticks": ""
             }
            },
            "type": "scatterpolargl"
           }
          ],
          "scatterternary": [
           {
            "marker": {
             "colorbar": {
              "outlinewidth": 0,
              "ticks": ""
             }
            },
            "type": "scatterternary"
           }
          ],
          "surface": [
           {
            "colorbar": {
             "outlinewidth": 0,
             "ticks": ""
            },
            "colorscale": [
             [
              0,
              "#0d0887"
             ],
             [
              0.1111111111111111,
              "#46039f"
             ],
             [
              0.2222222222222222,
              "#7201a8"
             ],
             [
              0.3333333333333333,
              "#9c179e"
             ],
             [
              0.4444444444444444,
              "#bd3786"
             ],
             [
              0.5555555555555556,
              "#d8576b"
             ],
             [
              0.6666666666666666,
              "#ed7953"
             ],
             [
              0.7777777777777778,
              "#fb9f3a"
             ],
             [
              0.8888888888888888,
              "#fdca26"
             ],
             [
              1,
              "#f0f921"
             ]
            ],
            "type": "surface"
           }
          ],
          "table": [
           {
            "cells": {
             "fill": {
              "color": "#EBF0F8"
             },
             "line": {
              "color": "white"
             }
            },
            "header": {
             "fill": {
              "color": "#C8D4E3"
             },
             "line": {
              "color": "white"
             }
            },
            "type": "table"
           }
          ]
         },
         "layout": {
          "annotationdefaults": {
           "arrowcolor": "#2a3f5f",
           "arrowhead": 0,
           "arrowwidth": 1
          },
          "autotypenumbers": "strict",
          "coloraxis": {
           "colorbar": {
            "outlinewidth": 0,
            "ticks": ""
           }
          },
          "colorscale": {
           "diverging": [
            [
             0,
             "#8e0152"
            ],
            [
             0.1,
             "#c51b7d"
            ],
            [
             0.2,
             "#de77ae"
            ],
            [
             0.3,
             "#f1b6da"
            ],
            [
             0.4,
             "#fde0ef"
            ],
            [
             0.5,
             "#f7f7f7"
            ],
            [
             0.6,
             "#e6f5d0"
            ],
            [
             0.7,
             "#b8e186"
            ],
            [
             0.8,
             "#7fbc41"
            ],
            [
             0.9,
             "#4d9221"
            ],
            [
             1,
             "#276419"
            ]
           ],
           "sequential": [
            [
             0,
             "#0d0887"
            ],
            [
             0.1111111111111111,
             "#46039f"
            ],
            [
             0.2222222222222222,
             "#7201a8"
            ],
            [
             0.3333333333333333,
             "#9c179e"
            ],
            [
             0.4444444444444444,
             "#bd3786"
            ],
            [
             0.5555555555555556,
             "#d8576b"
            ],
            [
             0.6666666666666666,
             "#ed7953"
            ],
            [
             0.7777777777777778,
             "#fb9f3a"
            ],
            [
             0.8888888888888888,
             "#fdca26"
            ],
            [
             1,
             "#f0f921"
            ]
           ],
           "sequentialminus": [
            [
             0,
             "#0d0887"
            ],
            [
             0.1111111111111111,
             "#46039f"
            ],
            [
             0.2222222222222222,
             "#7201a8"
            ],
            [
             0.3333333333333333,
             "#9c179e"
            ],
            [
             0.4444444444444444,
             "#bd3786"
            ],
            [
             0.5555555555555556,
             "#d8576b"
            ],
            [
             0.6666666666666666,
             "#ed7953"
            ],
            [
             0.7777777777777778,
             "#fb9f3a"
            ],
            [
             0.8888888888888888,
             "#fdca26"
            ],
            [
             1,
             "#f0f921"
            ]
           ]
          },
          "colorway": [
           "#636efa",
           "#EF553B",
           "#00cc96",
           "#ab63fa",
           "#FFA15A",
           "#19d3f3",
           "#FF6692",
           "#B6E880",
           "#FF97FF",
           "#FECB52"
          ],
          "font": {
           "color": "#2a3f5f"
          },
          "geo": {
           "bgcolor": "white",
           "lakecolor": "white",
           "landcolor": "#E5ECF6",
           "showlakes": true,
           "showland": true,
           "subunitcolor": "white"
          },
          "hoverlabel": {
           "align": "left"
          },
          "hovermode": "closest",
          "mapbox": {
           "style": "light"
          },
          "paper_bgcolor": "white",
          "plot_bgcolor": "#E5ECF6",
          "polar": {
           "angularaxis": {
            "gridcolor": "white",
            "linecolor": "white",
            "ticks": ""
           },
           "bgcolor": "#E5ECF6",
           "radialaxis": {
            "gridcolor": "white",
            "linecolor": "white",
            "ticks": ""
           }
          },
          "scene": {
           "xaxis": {
            "backgroundcolor": "#E5ECF6",
            "gridcolor": "white",
            "gridwidth": 2,
            "linecolor": "white",
            "showbackground": true,
            "ticks": "",
            "zerolinecolor": "white"
           },
           "yaxis": {
            "backgroundcolor": "#E5ECF6",
            "gridcolor": "white",
            "gridwidth": 2,
            "linecolor": "white",
            "showbackground": true,
            "ticks": "",
            "zerolinecolor": "white"
           },
           "zaxis": {
            "backgroundcolor": "#E5ECF6",
            "gridcolor": "white",
            "gridwidth": 2,
            "linecolor": "white",
            "showbackground": true,
            "ticks": "",
            "zerolinecolor": "white"
           }
          },
          "shapedefaults": {
           "line": {
            "color": "#2a3f5f"
           }
          },
          "ternary": {
           "aaxis": {
            "gridcolor": "white",
            "linecolor": "white",
            "ticks": ""
           },
           "baxis": {
            "gridcolor": "white",
            "linecolor": "white",
            "ticks": ""
           },
           "bgcolor": "#E5ECF6",
           "caxis": {
            "gridcolor": "white",
            "linecolor": "white",
            "ticks": ""
           }
          },
          "title": {
           "x": 0.05
          },
          "xaxis": {
           "automargin": true,
           "gridcolor": "white",
           "linecolor": "white",
           "ticks": "",
           "title": {
            "standoff": 15
           },
           "zerolinecolor": "white",
           "zerolinewidth": 2
          },
          "yaxis": {
           "automargin": true,
           "gridcolor": "white",
           "linecolor": "white",
           "ticks": "",
           "title": {
            "standoff": 15
           },
           "zerolinecolor": "white",
           "zerolinewidth": 2
          }
         }
        },
        "title": {
         "text": "Predicted = 5 (targ = 5), Game over prob = 0.82%"
        },
        "width": 500,
        "xaxis": {
         "anchor": "y",
         "constrain": "domain",
         "domain": [
          0,
          1
         ],
         "scaleanchor": "y",
         "showgrid": false,
         "showticklabels": false,
         "side": "top",
         "zeroline": false
        },
        "yaxis": {
         "anchor": "x",
         "autorange": "reversed",
         "constrain": "domain",
         "domain": [
          0,
          1
         ],
         "showgrid": false,
         "showticklabels": false,
         "zeroline": false
        }
       }
      }
     },
     "metadata": {},
     "output_type": "display_data"
    }
   ],
   "source": [
    "import torch\n",
    "import torch.nn.functional as F\n",
    "import plotly.express as px\n",
    "\n",
    "def get_player_positions(board_state, player):\n",
    "    return [(pos % 3, pos // 3) for pos in board_state if pos % 2 == player]\n",
    "\n",
    "def add_player_annotations(fig, positions, player_symbol):\n",
    "    for x, y in positions:\n",
    "        fig.add_annotation(x=x, y=y, text=player_symbol, showarrow=False,\n",
    "                           font=dict(size=40), xref=\"x\", yref=\"y\")\n",
    "        \n",
    "def add_token_circles(fig, positions):\n",
    "    for x, y in positions:\n",
    "        fig.add_shape(type=\"circle\",\n",
    "                      xref=\"x\", yref=\"y\",\n",
    "                      x0=x - 0.25, y0=y - 0.25, x1=x + 0.25, y1=y + 0.25,\n",
    "                      line_color=\"green\", fillcolor=\"green\")\n",
    "\n",
    "def plot_board_with_logits(board_state, step_logits, layer):\n",
    "    # Set everything up\n",
    "    target = board_state[0, layer+1]\n",
    "    board_state = board_state[0, :layer+1]\n",
    "    step_logits = step_logits[layer, :]\n",
    "\n",
    "    # Take softmax BEFORE we discard the game over token\n",
    "    step_logits = F.softmax(step_logits, dim=-1)\n",
    "    # Game over probability is the last value in the logits tensor\n",
    "    game_over_prob = step_logits[-1]\n",
    "    # Get the predicted next token\n",
    "    next_token = step_logits.argmax().item()\n",
    "    # Assume 'layer' is the current step in the game represented by board_state\n",
    "    step_logits = step_logits[:-1]  # Exclude the last value if not part of the board\n",
    "    # Reshape into 3x3\n",
    "    step_logits = step_logits.reshape(3, 3)\n",
    "    # Imshow with plotly\n",
    "    fig = px.imshow(step_logits.cpu().detach().numpy(), text_auto=True)\n",
    "\n",
    "    # Get 'X' and 'O' positions\n",
    "    x_positions = get_player_positions(board_state[:layer+1], player=0)\n",
    "    o_positions = get_player_positions(board_state[:layer+1], player=1)\n",
    "\n",
    "    # Add circles for 'X' and 'O' positions on green tokens\n",
    "    all_positions = x_positions + o_positions\n",
    "    add_token_circles(fig, all_positions)\n",
    "\n",
    "    # Add 'X' and 'O' annotations to the figure\n",
    "    add_player_annotations(fig, x_positions, 'X')\n",
    "    add_player_annotations(fig, o_positions, 'O')\n",
    "\n",
    "    fig.update_xaxes(side=\"top\")  # This will put the (0,0) position of imshow in the top left corner\n",
    "    fig.update_traces(texttemplate=\"%{text}\", textfont_size=20)  # Set text size\n",
    "\n",
    "    # Update axes properties to not show any labels or ticks\n",
    "    fig.update_xaxes(showticklabels=False, showgrid=False, zeroline=False)\n",
    "    fig.update_yaxes(showticklabels=False, showgrid=False, zeroline=False)\n",
    "\n",
    "    fig.update_layout(autosize=False, width=500, height=500, title=f\"Predicted = {next_token} (targ = {target}), Game over prob = {game_over_prob.item()*100:.2f}%\")\n",
    "    fig.show()\n",
    "\n",
    "# Example usage with dummy data\n",
    "layer = 4  # Current step\n",
    "# Do a prediction\n",
    "model.eval()\n",
    "# Random idx\n",
    "idx = np.random.randint(0, len(eval_data))\n",
    "example = eval_data[idx:idx+1, :]\n",
    "example_logits = model(example).squeeze()\n",
    "# example_logits = torch.rand(9, 10) * 4 - 2  # Dummy logits tensor\n",
    "# example = torch.tensor([[8, 6, 0, 7, 1, 2, 5, 3, 4]], dtype=torch.int32)  # Dummy board state\n",
    "plot_board_with_logits(example, example_logits, layer=layer)\n"
   ]
  },
  {
   "cell_type": "markdown",
   "metadata": {},
   "source": [
    "## Linear probe"
   ]
  },
  {
   "cell_type": "code",
   "execution_count": 21,
   "metadata": {},
   "outputs": [
    {
     "name": "stdout",
     "output_type": "stream",
     "text": [
      "tensor([0, 0, 0, 0, 1, 1, 0, 1, 1], dtype=torch.int32)\n"
     ]
    }
   ],
   "source": [
    "import torch\n",
    "\n",
    "def board_state_to_vector(board_state_tensor):\n",
    "    # Initialize a vector of zeros with length 9\n",
    "    state_vector = torch.zeros(9, dtype=torch.int32)\n",
    "    \n",
    "    # Set the positions indicated by the board_state_tensor to 1\n",
    "    state_vector[board_state_tensor] = 1\n",
    "    \n",
    "    return state_vector\n",
    "\n",
    "# Example usage\n",
    "idx = np.random.randint(0, len(eval_data))\n",
    "board_state_tensor = eval_data[idx:idx+1, :4].squeeze()\n",
    "state_vector = board_state_to_vector(board_state_tensor)\n",
    "print(state_vector)"
   ]
  },
  {
   "cell_type": "code",
   "execution_count": null,
   "metadata": {},
   "outputs": [],
   "source": [
    "def board_state_to_logit_vector_pair(board_state_tensor):\n",
    "    # Convert the board state to a vector\n",
    "    state_vector = board_state_to_vector(board_state_tensor)\n",
    "    # Get the logits for the next token\n",
    "    logits = model(state_vector.unsqueeze(0))\n",
    "    # Get the predicted next token\n",
    "    pred_token = logits.argmax(-1)\n",
    "    return state_vector, logits, pred_token"
   ]
  },
  {
   "cell_type": "code",
   "execution_count": 14,
   "metadata": {},
   "outputs": [
    {
     "name": "stdout",
     "output_type": "stream",
     "text": [
      "torch.Size([1, 4])\n",
      "torch.Size([4, 10])\n"
     ]
    }
   ],
   "source": [
    "# Example usage with dummy data\n",
    "layer = 4  # Current step\n",
    "# Do a prediction\n",
    "model.eval()\n",
    "# Random idx\n",
    "idx = np.random.randint(0, len(eval_data))\n",
    "example = eval_data[idx:idx+1, :layer]\n",
    "example_logits = model(example).squeeze()\n",
    "\n",
    "print(example.shape)\n",
    "print(example_logits.shape)"
   ]
  },
  {
   "cell_type": "code",
   "execution_count": 18,
   "metadata": {},
   "outputs": [
    {
     "data": {
      "text/plain": [
       "torch.Size([4, 10])"
      ]
     },
     "execution_count": 18,
     "metadata": {},
     "output_type": "execute_result"
    }
   ],
   "source": [
    "example_logits.shape"
   ]
  },
  {
   "cell_type": "code",
   "execution_count": 17,
   "metadata": {},
   "outputs": [
    {
     "data": {
      "text/plain": [
       "tensor(6)"
      ]
     },
     "execution_count": 17,
     "metadata": {},
     "output_type": "execute_result"
    }
   ],
   "source": [
    "# Next pred\n",
    "pred = example_logits.argmax(-1)[-1]\n",
    "pred"
   ]
  },
  {
   "cell_type": "code",
   "execution_count": null,
   "metadata": {},
   "outputs": [],
   "source": []
  }
 ],
 "metadata": {
  "kernelspec": {
   "display_name": "anu",
   "language": "python",
   "name": "python3"
  },
  "language_info": {
   "codemirror_mode": {
    "name": "ipython",
    "version": 3
   },
   "file_extension": ".py",
   "mimetype": "text/x-python",
   "name": "python",
   "nbconvert_exporter": "python",
   "pygments_lexer": "ipython3",
   "version": "3.12.1"
  }
 },
 "nbformat": 4,
 "nbformat_minor": 2
}
